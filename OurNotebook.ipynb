{
 "cells": [
  {
   "cell_type": "markdown",
   "id": "eeaf7c44",
   "metadata": {},
   "source": [
    "This notebook refers to [Carlucci et al. (2019)](https://arxiv.org/pdf/1903.06864.pdf).\n",
    "We begin by explaining the methods and procedures in details before applying it to a different dataset than the one used in the article (PACS)."
   ]
  },
  {
   "cell_type": "markdown",
   "id": "b05aedb4",
   "metadata": {},
   "source": [
    "# Methods and procedures used for Domain Generalization by Solving Jigsaw Puzzles"
   ]
  },
  {
   "cell_type": "markdown",
   "id": "74e35dfe",
   "metadata": {},
   "source": [
    "## Domain Generalization\n",
    "\n",
    "Domain generalization refers to the ability of a machine learning model to generalize to unseen domains or out-of-distribution data. This is in contrast to traditional supervised learning which assumes that the training and test data come from the same domain or distribution. [Wang et al. (2022)]\n",
    "\n",
    "The models is trained on different domains, the source data (if we consider a picture style it could be drawing, painting, cartoon, ...). We want the model to be able to predict accurately the class on an unseen domain, the target data (e.g. photos).\n",
    "\n",
    "*Definition 1 (Domain).*\n",
    "Let X denote a nonempty input space and Y an output space. A domain is composed of data that are sampled from a distribution. We denote it as $\\mathcal{S} = {(x_i, y_i)}^n_{i=1}∼P_{XY}$ , where $x \\in \\mathcal{X} \\subset \\mathbb{R}^d$, $y \\in \\mathcal{Y} \\subset \\mathbb{R}$ denotes the label, and $P_{XY}$ denotes the joint distribution of the input sample and output label. X and Y denote the corresponding random variables. [Wang et al. (2022)]\n",
    "\n",
    "*Definition 2 (Domain generalization).*\n",
    "In domain generalization, we are given M training (source) domains $S_{train} = {S^i | i = 1, ..., M }$ where $S^i = {(x^i_j , y^i_j )}^{n_i}_{j=1}$ denotes the i-th domain. The joint distributions between each pair of domains are different: $P^i_{XY} \\neq P^j_{XY}$, $1 \\leq i \\neq j \\leq M$. The goal of domain generalization is to learn a robust and generalizable predictive function h : X → Y from the M training domains to achieve a minimum prediction error on an unseen test domain $S_{test}$ (i.e., $S_{test}$ cannot be accessed in training and $P^{test}_{XY} \\neq P^i_{XY}$ for i ∈ {1, ..., M}):\n",
    "$$ min_h \\mathcal{E}(x,y) \\in S_{test} [\\mathcal{l}(h(x), y)] $$\n",
    "where $\\mathcal{l}(·, ·)$ is the loss function. [Wang et al. (2022)]"
   ]
  },
  {
   "cell_type": "markdown",
   "id": "2d08c2e2",
   "metadata": {},
   "source": [
    "## JiGENDG\n",
    "The algorithm is based on the idea of using jigsaw puzzles to train a model to be invariant to different domains. [Carlucci et al. (2019)]"
   ]
  },
  {
   "cell_type": "markdown",
   "id": "d617ee3b",
   "metadata": {},
   "source": [
    "## References"
   ]
  },
  {
   "cell_type": "markdown",
   "id": "e1928832",
   "metadata": {},
   "source": [
    "**[Carlucci et al. (2019)]** Carlucci, F. M., D'Innocente, A., Bucci, S., Caputo, B., & Tommasi, T. (2019). Domain Generalization by Solving Jigsaw Puzzles. arXiv preprint arXiv:1903.06864. [URL](https://arxiv.org/pdf/1903.06864.pdf)\n",
    "\n",
    "**[Wang et al. (2022)]** Wang, J., Lan, C., Liu, C., Ouyang, Y., Qin, T., Lu, W., Chen, Y., Zeng, W., & Yu, P. S. (2022). Generalizing to Unseen Domains: A Survey on Domain Generalization. arXiv preprint arXiv:2103.03097. [URL](https://arxiv.org/pdf/2103.03097.pdf)"
   ]
  },
  {
   "cell_type": "markdown",
   "id": "5083e865",
   "metadata": {},
   "source": [
    "# Using JiGen on PACS (as in the article)"
   ]
  },
  {
   "cell_type": "code",
   "execution_count": 1,
   "id": "d98f9e2e",
   "metadata": {},
   "outputs": [
    {
     "name": "stdout",
     "output_type": "stream",
     "text": [
      "Traceback (most recent call last):\r\n",
      "  File \"/home/bocquet-/Bureau/5A/Projet HDDL/JigenDG/train_jigsaw.py\", line 10, in <module>\r\n",
      "    from models import model_factory\r\n",
      "  File \"/home/bocquet-/Bureau/5A/Projet HDDL/JigenDG/models/model_factory.py\", line 5, in <module>\r\n",
      "    from models import resnet\r\n",
      "  File \"/home/bocquet-/Bureau/5A/Projet HDDL/JigenDG/models/resnet.py\", line 3, in <module>\r\n",
      "    from torchvision.models.resnet import BasicBlock, model_urls, Bottleneck\r\n",
      "ImportError: cannot import name 'model_urls' from 'torchvision.models.resnet' (/home/bocquet-/.local/lib/python3.11/site-packages/torchvision/models/resnet.py)\r\n"
     ]
    }
   ],
   "source": [
    "! python train_jigsaw.py --batch_size 128 --n_classes 7 --learning_rate 0.001 --network resnet18 --val_size 0.1 --folder_name test --jigsaw_n_classes 30 --train_all True --TTA False --nesterov False --min_scale 0.8 --max_scale 1.0 --random_horiz_flip 0.5 --jitter 0.4 --tile_random_grayscale 0.1 --source photo cartoon sketch --target art_painting --jig_weight 0.7 --bias_whole_image 0.9 --image_size 222"
   ]
  },
  {
   "cell_type": "code",
   "execution_count": null,
   "id": "6dfe3b26",
   "metadata": {},
   "outputs": [],
   "source": []
  }
 ],
 "metadata": {
  "authors": [
   {
    "name": "Louison Bocquet--Nouaille"
   },
   {
    "name": "Pierre-Alain Goulm"
   },
   {
    "name": "Romain Tiphaigne"
   },
   {
    "name": "Axelle Tragné"
   },
   {
    "name": "Alicia Zady"
   }
  ],
  "kernelspec": {
   "display_name": "Python 3 (ipykernel)",
   "language": "python",
   "name": "python3"
  },
  "language_info": {
   "codemirror_mode": {
    "name": "ipython",
    "version": 3
   },
   "file_extension": ".py",
   "mimetype": "text/x-python",
   "name": "python",
   "nbconvert_exporter": "python",
   "pygments_lexer": "ipython3",
   "version": "3.11.3"
  },
  "title": "Domain Generalization by Solving Jigsaw Puzzles",
  "toc": {
   "base_numbering": 1,
   "nav_menu": {},
   "number_sections": true,
   "sideBar": true,
   "skip_h1_title": false,
   "title_cell": "Table of Contents",
   "title_sidebar": "Contents",
   "toc_cell": false,
   "toc_position": {},
   "toc_section_display": true,
   "toc_window_display": false
  }
 },
 "nbformat": 4,
 "nbformat_minor": 5
}
